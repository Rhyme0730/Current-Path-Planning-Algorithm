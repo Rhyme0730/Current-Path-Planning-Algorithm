{
 "cells": [
  {
   "cell_type": "markdown",
   "metadata": {},
   "source": [
    "### Some Notes:\n",
    "`def __eq__`: means the condition for two classes equality, it returns True or False   \n",
    "`queue.PriorityQueue`: when use queue.get(), it will pop the minimum object (Note if you use class, then you need to implement comparison methods in your class, e.g. `__eq__`,`__lt__`,`__ge__`)\n",
    "**Step into**: it will step into each function you and it's absolutely line by line debug   \n",
    "**Step Over**: just care about current code and won't step into any function(just get a return value)  "
   ]
  },
  {
   "cell_type": "markdown",
   "metadata": {},
   "source": [
    "### Reference\n",
    "https://www.redblobgames.com/pathfinding/a-star/introduction.html  \n",
    "https://gist.github.com/Nicholas-Swift/003e1932ef2804bebef2710527008f44"
   ]
  },
  {
   "cell_type": "code",
   "execution_count": 22,
   "metadata": {},
   "outputs": [],
   "source": [
    "class Node():\n",
    "    def __init__(self, parent=None, position=None):\n",
    "        self.position = position\n",
    "        self.parent = parent\n",
    "        \n",
    "        self.g = 0\n",
    "        self.h = 0\n",
    "        self.f = 0\n",
    "\n",
    "    def is_same(self, other):\n",
    "        return self.position == other.position\n",
    "    \n",
    "    def __eq__(self, other):\n",
    "        return self.f == other.f\n",
    "    \n",
    "    def __lt__(self, other):\n",
    "        # Compare based on the smallest value\n",
    "        return self.f < other.f\n",
    "    \n",
    "    def __gt__(self, other):\n",
    "        return self.f > other.f "
   ]
  },
  {
   "cell_type": "code",
   "execution_count": 32,
   "metadata": {},
   "outputs": [],
   "source": [
    "from queue import PriorityQueue\n",
    "\n",
    "def Astar(maze, start, end):\n",
    "    start_node = Node(None, start)\n",
    "    end_node = Node(None, end)\n",
    "    frontier = PriorityQueue()\n",
    "    frontier.put(start_node)\n",
    "\n",
    "    while not frontier.empty():\n",
    "        current_node = frontier.get()\n",
    "\n",
    "        if current_node.is_same(end_node):\n",
    "            path = []\n",
    "            current = current_node\n",
    "            while current is not None:\n",
    "                path.append(current.position)\n",
    "                current = current.parent\n",
    "            return path[::-1] # Return reversed path\n",
    "\n",
    "        extend_node_list = []\n",
    "\n",
    "        # Find its neighbors\n",
    "        for new_position in [(0, -1), (0, 1), (-1, 0), (1, 0), (-1, -1), (-1, 1), (1, -1), (1, 1)]:\n",
    "            node_position = (current_node.position[0] + new_position[0], current_node.position[1] + new_position[1])\n",
    "\n",
    "            if node_position[0] > (len(maze) - 1) or node_position[0] < 0 or node_position[1] > (len(maze[len(maze)-1]) -1) or node_position[1] < 0:# Make sure within range\n",
    "                continue\n",
    "\n",
    "            if maze[node_position[0]][node_position[1]] != 0:# Make sure walkable terrain\n",
    "                continue\n",
    "\n",
    "            new_node = Node(current_node, node_position)\n",
    "            extend_node_list.append(new_node)\n",
    "\n",
    "        # Update value of extend nodes\n",
    "        for extend_node in extend_node_list:\n",
    "            if extend_node.g == 0 or extend_node.g > current_node.g + 1:  #if this node is not explored or we have a closer path to it\n",
    "                extend_node.g = current_node.g + 1\n",
    "                extend_node.h = ((extend_node.position[0] - end_node.position[0]) ** 2) + ((extend_node.position[1] - end_node.position[1]) ** 2)\n",
    "                extend_node.f = extend_node.g + extend_node.h\n",
    "                frontier.put(extend_node)"
   ]
  },
  {
   "cell_type": "code",
   "execution_count": 33,
   "metadata": {},
   "outputs": [
    {
     "name": "stdout",
     "output_type": "stream",
     "text": [
      "[(0, 0), (1, 1), (2, 2), (3, 3), (4, 3), (5, 4), (5, 5), (4, 6), (5, 7), (6, 7), (7, 6), (8, 5), (9, 6), (9, 7), (9, 8), (9, 9)]\n"
     ]
    }
   ],
   "source": [
    "maze = [[0, 0, 0, 0, 1, 0, 0, 0, 0, 0],\n",
    "        [0, 0, 0, 0, 1, 0, 0, 0, 0, 0],\n",
    "        [0, 0, 0, 0, 1, 0, 0, 0, 0, 0],\n",
    "        [0, 0, 0, 0, 1, 0, 0, 0, 0, 0],\n",
    "        [0, 0, 0, 0, 1, 0, 0, 0, 0, 0],\n",
    "        [0, 0, 0, 0, 0, 0, 1, 0, 0, 0],\n",
    "        [0, 0, 0, 0, 1, 1, 1, 0, 0, 1],\n",
    "        [0, 0, 0, 0, 1, 0, 0, 0, 1, 1],\n",
    "        [0, 0, 0, 0, 0, 0, 1, 1, 1, 0],\n",
    "        [0, 0, 0, 0, 0, 0, 0, 0, 0, 0]]\n",
    "\n",
    "\n",
    "start = (0, 0)\n",
    "end = (9, 9)\n",
    "\n",
    "path = Astar(maze, start, end)\n",
    "print(path)"
   ]
  }
 ],
 "metadata": {
  "kernelspec": {
   "display_name": "base",
   "language": "python",
   "name": "python3"
  },
  "language_info": {
   "codemirror_mode": {
    "name": "ipython",
    "version": 3
   },
   "file_extension": ".py",
   "mimetype": "text/x-python",
   "name": "python",
   "nbconvert_exporter": "python",
   "pygments_lexer": "ipython3",
   "version": "3.11.7"
  }
 },
 "nbformat": 4,
 "nbformat_minor": 2
}
